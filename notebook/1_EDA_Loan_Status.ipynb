{
 "cells": [
  {
   "cell_type": "markdown",
   "metadata": {},
   "source": [
    "Loan Prediction"
   ]
  },
  {
   "cell_type": "code",
   "execution_count": 3,
   "metadata": {},
   "outputs": [],
   "source": [
    "import pandas as pd\n",
    "import numpy as np\n",
    "import matplotlib.pyplot as plt\n",
    "import seaborn as sns\n",
    "import plotly.express as px\n",
    "import warnings\n",
    "\n",
    "warnings.filterwarnings(\"ignore\")\n",
    "\n",
    "%matplotlib inline"
   ]
  },
  {
   "cell_type": "code",
   "execution_count": null,
   "metadata": {},
   "outputs": [],
   "source": [
    "df = pd.read_csv(\"loan_data.csv\")\n",
    "df.head()"
   ]
  },
  {
   "cell_type": "code",
   "execution_count": null,
   "metadata": {},
   "outputs": [],
   "source": [
    "df.info()"
   ]
  },
  {
   "cell_type": "code",
   "execution_count": null,
   "metadata": {},
   "outputs": [],
   "source": [
    "print(df.shape)"
   ]
  },
  {
   "cell_type": "code",
   "execution_count": 4,
   "metadata": {},
   "outputs": [],
   "source": [
    "df = df.drop(['Loan_ID'], axis=1)"
   ]
  },
  {
   "cell_type": "code",
   "execution_count": null,
   "metadata": {},
   "outputs": [],
   "source": [
    "df.isnull().sum()"
   ]
  },
  {
   "cell_type": "code",
   "execution_count": null,
   "metadata": {},
   "outputs": [],
   "source": [
    "df.info()"
   ]
  },
  {
   "cell_type": "code",
   "execution_count": null,
   "metadata": {},
   "outputs": [],
   "source": [
    "# Define numeric and categorical features\n",
    "numeric_features = ['ApplicantIncome', 'CoapplicantIncome', 'LoanAmount']\n",
    "categorical_features = [col for col in df.columns if col not in numeric_features]\n",
    "\n",
    "def impute_and_encode(df, numeric_features, categorical_features):\n",
    "\n",
    "  # Impute missing values\n",
    "  for col in df.columns:\n",
    "    if col in numeric_features:\n",
    "      df[col] = df[col].fillna(df[col].mean())  # Impute with mean for numerical columns\n",
    "    elif col in categorical_features:\n",
    "      df[col] = df[col].fillna(df[col].mode()[0])  # Impute with mode for categorical columns\n",
    "    else:\n",
    "      raise ValueError(f\"Column '{col}' not found in either numeric_features or categorical_features lists.\")\n",
    "  return df\n",
    "\n",
    "# Impute and encode the DataFrame\n",
    "df = impute_and_encode(df.copy(), numeric_features, categorical_features)\n",
    "\n",
    "# Print the modified DataFrame\n",
    "print(df)\n"
   ]
  },
  {
   "cell_type": "code",
   "execution_count": null,
   "metadata": {},
   "outputs": [],
   "source": [
    "#clr1 = ['#1E90FF', '#DC143C']\n",
    " \n",
    "fig, ax = plt.subplots(3, 2, figsize=(10,14))\n",
    "fig.suptitle('Distribution of Numerical Features By Loan_Status', color='#3C3744',\n",
    "             fontsize=20, fontweight='bold', ha='center')\n",
    "fig.set_facecolor('#DDDDDD') \n",
    "for i, col in enumerate(numeric_features):   \n",
    "    sns.boxplot(data=df, x='Loan_Status', y=col, palette=\"Set2_r\", ax=ax[i,0])\n",
    "    ax[i,0].set_title(f'Boxplot of {col}', fontsize=12)\n",
    "    sns.histplot(data=df, x=col, hue='Loan_Status', bins=20, kde=True, \n",
    "                 multiple='stack', palette=\"Set2_r\", ax=ax[i,1])\n",
    "    ax[i,1].set_title(f'Histogram of {col}', fontsize=14)\n",
    "fig.tight_layout()\n",
    "fig.subplots_adjust(top=0.90)\n",
    "# plt.savefig('images/multivariate_num.png')"
   ]
  },
  {
   "cell_type": "code",
   "execution_count": null,
   "metadata": {},
   "outputs": [],
   "source": [
    "fig, ax = plt.subplots(3, 3, figsize=(14, 12))  \n",
    "fig.set_facecolor('#DDDDDD')  \n",
    "\n",
    "for index, cat_col in enumerate(categorical_features):\n",
    "    row, col = index // 3, index % 3\n",
    "    sns.countplot(x=cat_col, data=df, hue='Loan_Status', ax=ax[row, col],\n",
    "                  palette=\"Set2_r\")  # Use light colored palette\n",
    "\n",
    "plt.subplots_adjust(hspace=1)\n",
    "plt.show()\n",
    "    \n",
    "# save plot\n",
    "# plt.savefig('./images/Univariate_Cat.png')"
   ]
  },
  {
   "cell_type": "code",
   "execution_count": null,
   "metadata": {},
   "outputs": [],
   "source": [
    "distinct_value_counts = df.nunique()\n",
    "distinct_value_counts \n"
   ]
  },
  {
   "cell_type": "markdown",
   "metadata": {},
   "source": [
    "Handling the missing values in the dataset"
   ]
  },
  {
   "cell_type": "code",
   "execution_count": null,
   "metadata": {},
   "outputs": [],
   "source": [
    "df.isnull().sum()\n"
   ]
  },
  {
   "cell_type": "code",
   "execution_count": null,
   "metadata": {},
   "outputs": [],
   "source": [
    "# proportion of count data on categorical columns\n",
    "for cat in categorical_features:\n",
    "    print(df[cat].value_counts(normalize=True) * 100)\n",
    "    print('---------------------------')"
   ]
  },
  {
   "cell_type": "code",
   "execution_count": null,
   "metadata": {},
   "outputs": [],
   "source": [
    "print(numeric_features)"
   ]
  },
  {
   "cell_type": "code",
   "execution_count": null,
   "metadata": {},
   "outputs": [],
   "source": [
    "print(categorical_features)"
   ]
  },
  {
   "cell_type": "code",
   "execution_count": null,
   "metadata": {},
   "outputs": [],
   "source": [
    "df.head"
   ]
  }
 ],
 "metadata": {
  "kernelspec": {
   "display_name": "loan",
   "language": "python",
   "name": "python3"
  },
  "language_info": {
   "codemirror_mode": {
    "name": "ipython",
    "version": 3
   },
   "file_extension": ".py",
   "mimetype": "text/x-python",
   "name": "python",
   "nbconvert_exporter": "python",
   "pygments_lexer": "ipython3",
   "version": "3.8.19"
  }
 },
 "nbformat": 4,
 "nbformat_minor": 2
}
